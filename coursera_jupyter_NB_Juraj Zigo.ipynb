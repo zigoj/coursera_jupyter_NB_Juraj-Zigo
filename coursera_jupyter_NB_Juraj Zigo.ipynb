{
 "cells": [
  {
   "cell_type": "markdown",
   "id": "bbd78158-08a0-43bf-8964-24e5d813c616",
   "metadata": {},
   "source": [
    "# Data Science Tools and Ecosystem"
   ]
  },
  {
   "cell_type": "markdown",
   "id": "b563b787-5af8-4b82-a653-a9bc613755cd",
   "metadata": {},
   "source": [
    "In this notebook, Data Science Tools and Ecosystem are summarized."
   ]
  },
  {
   "cell_type": "markdown",
   "id": "9def93c3-724f-424f-a158-b2cb04eedbaa",
   "metadata": {},
   "source": [
    "**Objectives:**\n",
    "\n",
    "- List popular languages for Data Science\n",
    "- Popular data science libraries\n",
    "- Mathematical operations in a Jupyter notebook"
   ]
  },
  {
   "cell_type": "markdown",
   "id": "3be6bf14-8e34-4396-8171-ed64f49d83ef",
   "metadata": {},
   "source": [
    "Some of the popular languages that Data Scientists use are:\n",
    "\n",
    "1. Python\n",
    "2. Julia\n",
    "3. C++"
   ]
  },
  {
   "cell_type": "markdown",
   "id": "b7052cb2-c042-48e0-bdf3-fcc54b6143cb",
   "metadata": {},
   "source": [
    "Some of the commonly used libraries used by Data Scientists include:\n",
    "\n",
    "1. Pandas\n",
    "2. Numpy\n",
    "3. Matplotlib\n",
    "4. Plotly\n",
    "5. Seaborn"
   ]
  },
  {
   "cell_type": "markdown",
   "id": "0695846a-cb85-490c-87f0-6e98cc806fed",
   "metadata": {},
   "source": [
    "|commonly used libraries in data science|\n",
    "| -------------------|\n",
    "| R Studio|\n",
    "| IBM Watson Studio|\n",
    "| Jupyter Lab|"
   ]
  },
  {
   "cell_type": "markdown",
   "id": "4fc5771a-4544-4f60-b6cd-78d4d12fabf2",
   "metadata": {},
   "source": [
    "### Below are a few examples of evaluating arithmetic expressions in Python"
   ]
  },
  {
   "cell_type": "markdown",
   "id": "ac7ec7a7-f154-4971-80af-e1821c94903b",
   "metadata": {},
   "source": [
    "This a simple arithmetic expression to mutiply then add integers"
   ]
  },
  {
   "cell_type": "code",
   "execution_count": 2,
   "id": "d52d4ba6-4ebe-4388-89ba-e851ea897fe7",
   "metadata": {},
   "outputs": [
    {
     "data": {
      "text/plain": [
       "17"
      ]
     },
     "execution_count": 2,
     "metadata": {},
     "output_type": "execute_result"
    }
   ],
   "source": [
    "(3*4)+5"
   ]
  },
  {
   "cell_type": "markdown",
   "id": "45ab5a1a-ee4c-46d9-8541-15149563f055",
   "metadata": {},
   "source": [
    " This will convert 200 minutes to hours by diving by 60"
   ]
  },
  {
   "cell_type": "code",
   "execution_count": 3,
   "id": "c0baca28-dc81-4046-a0b8-be131f610aad",
   "metadata": {},
   "outputs": [
    {
     "data": {
      "text/plain": [
       "3.3333333333333335"
      ]
     },
     "execution_count": 3,
     "metadata": {},
     "output_type": "execute_result"
    }
   ],
   "source": [
    "200/60"
   ]
  },
  {
   "cell_type": "markdown",
   "id": "83e8d514-2eb0-4ce3-a325-ea321b95be3c",
   "metadata": {},
   "source": [
    "## Author:\n",
    "Juraj Zigo"
   ]
  }
 ],
 "metadata": {
  "kernelspec": {
   "display_name": "Python 3 (ipykernel)",
   "language": "python",
   "name": "python3"
  },
  "language_info": {
   "codemirror_mode": {
    "name": "ipython",
    "version": 3
   },
   "file_extension": ".py",
   "mimetype": "text/x-python",
   "name": "python",
   "nbconvert_exporter": "python",
   "pygments_lexer": "ipython3",
   "version": "3.9.7"
  }
 },
 "nbformat": 4,
 "nbformat_minor": 5
}
